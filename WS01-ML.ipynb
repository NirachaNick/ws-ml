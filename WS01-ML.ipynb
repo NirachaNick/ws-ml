{
  "nbformat": 4,
  "nbformat_minor": 0,
  "metadata": {
    "colab": {
      "provenance": [],
      "authorship_tag": "ABX9TyOye0aRQK/h4HbI8kqWz6g2",
      "include_colab_link": true
    },
    "kernelspec": {
      "name": "python3",
      "display_name": "Python 3"
    },
    "language_info": {
      "name": "python"
    }
  },
  "cells": [
    {
      "cell_type": "markdown",
      "metadata": {
        "id": "view-in-github",
        "colab_type": "text"
      },
      "source": [
        "<a href=\"https://colab.research.google.com/github/NirachaNick/ws-ml/blob/main/WS01-ML.ipynb\" target=\"_parent\"><img src=\"https://colab.research.google.com/assets/colab-badge.svg\" alt=\"Open In Colab\"/></a>"
      ]
    },
    {
      "cell_type": "code",
      "execution_count": null,
      "metadata": {
        "id": "nMGR9OWi4qxK"
      },
      "outputs": [],
      "source": [
        "import pandas as pd\n",
        "import cv2\n",
        "from sklearn.model_selection import train_test_split\n",
        "from sklearn.model_selection import GridSearchCV\n",
        "import numpy as np"
      ]
    },
    {
      "cell_type": "code",
      "source": [
        "from google.colab import drive\n",
        "drive.mount('/content/drive')"
      ],
      "metadata": {
        "colab": {
          "base_uri": "https://localhost:8080/"
        },
        "id": "VNQOtomN5GmY",
        "outputId": "d5a72b48-ff36-4e5e-e058-189c159ce0ec"
      },
      "execution_count": null,
      "outputs": [
        {
          "output_type": "stream",
          "name": "stdout",
          "text": [
            "Mounted at /content/drive\n"
          ]
        }
      ]
    },
    {
      "cell_type": "code",
      "source": [
        "df = pd.read_csv(\"/content/drive/MyDrive/WS-ML/workshop.csv\")  \n",
        "print(df) "
      ],
      "metadata": {
        "colab": {
          "base_uri": "https://localhost:8080/"
        },
        "id": "hPngAPh_5__7",
        "outputId": "0796fc27-7079-4eb6-ecf2-f7904240f775"
      },
      "execution_count": null,
      "outputs": [
        {
          "output_type": "stream",
          "name": "stdout",
          "text": [
            "            1         2         3         4         5         6  class\n",
            "0    0.121927  0.289246  0.276243  0.042710  0.109247  0.026369      1\n",
            "1    0.128410  0.318742  0.301159  0.046183  0.111704  0.029470      1\n",
            "2    0.126103  0.316991  0.295062  0.048257  0.110985  0.029533      1\n",
            "3    0.130321  0.267532  0.259763  0.047657  0.110084  0.024277      1\n",
            "4    0.108340  0.258773  0.239539  0.044549  0.095185  0.024871      1\n",
            "..        ...       ...       ...       ...       ...       ...    ...\n",
            "282  0.147877  0.433291  0.373985  0.045019  0.113251  0.041911      3\n",
            "283  0.147790  0.435971  0.376390  0.045856  0.113512  0.039239      3\n",
            "284  0.136939  0.393847  0.342760  0.044270  0.105209  0.036471      3\n",
            "285  0.135623  0.405218  0.344778  0.044473  0.102293  0.038860      3\n",
            "286  0.130852  0.405376  0.341752  0.041808  0.101191  0.035083      3\n",
            "\n",
            "[287 rows x 7 columns]\n"
          ]
        }
      ]
    },
    {
      "cell_type": "code",
      "source": [
        "#split data\n",
        "X=df[['1', '2', '3', '4','5','6']]  # Features\n",
        "y=df['class']  # Labels\n",
        "\n",
        "# Split dataset into training set and test set\n",
        "X_train, X_test, y_train, y_test = train_test_split(X, y, test_size=0.3) # 70% training and 30% test"
      ],
      "metadata": {
        "id": "r98lXplV6fL7"
      },
      "execution_count": null,
      "outputs": []
    },
    {
      "cell_type": "code",
      "source": [
        "print(X_test)"
      ],
      "metadata": {
        "colab": {
          "base_uri": "https://localhost:8080/"
        },
        "id": "FnXWT9aI81Q0",
        "outputId": "1fe967ee-5802-412f-d2c5-231ff6e0e854"
      },
      "execution_count": null,
      "outputs": [
        {
          "output_type": "stream",
          "name": "stdout",
          "text": [
            "            1         2         3         4         5         6\n",
            "255  0.149779  0.409886  0.352121  0.043925  0.115924  0.044351\n",
            "277  0.154026  0.387731  0.346178  0.047876  0.120803  0.044604\n",
            "200  0.145925  0.417680  0.358156  0.047661  0.109002  0.040867\n",
            "99   0.142996  0.343815  0.319053  0.050287  0.128333  0.027901\n",
            "185  0.166900  0.372509  0.333156  0.060467  0.126542  0.036211\n",
            "..        ...       ...       ...       ...       ...       ...\n",
            "223  0.145371  0.387635  0.350294  0.043444  0.109238  0.029103\n",
            "153  0.144249  0.406446  0.361145  0.042834  0.102709  0.024499\n",
            "70   0.148641  0.342045  0.324086  0.051187  0.125608  0.028356\n",
            "233  0.171434  0.397869  0.364062  0.050477  0.131834  0.029408\n",
            "111  0.170114  0.388922  0.347723  0.059016  0.127771  0.031818\n",
            "\n",
            "[87 rows x 6 columns]\n"
          ]
        }
      ]
    },
    {
      "cell_type": "code",
      "source": [
        "print(y_test)"
      ],
      "metadata": {
        "colab": {
          "base_uri": "https://localhost:8080/"
        },
        "id": "-MRhjCfHG8Ab",
        "outputId": "d52a6a7e-277a-44bd-9da0-ac6ae7163277"
      },
      "execution_count": null,
      "outputs": [
        {
          "output_type": "stream",
          "name": "stdout",
          "text": [
            "255    3\n",
            "277    3\n",
            "200    3\n",
            "99     1\n",
            "185    2\n",
            "      ..\n",
            "223    3\n",
            "153    2\n",
            "70     1\n",
            "233    3\n",
            "111    2\n",
            "Name: class, Length: 87, dtype: int64\n"
          ]
        }
      ]
    },
    {
      "cell_type": "code",
      "source": [
        "#Import Random Forest Model\n",
        "from sklearn.ensemble import RandomForestClassifier\n",
        "\n",
        "#Create a Gaussian Classifier\n",
        "clf=RandomForestClassifier(n_estimators=500)\n",
        "\n",
        "#Train the model using the training sets y_pred=clf.predict(X_test)\n",
        "clf.fit(X_train,y_train)\n",
        "\n",
        "y_pred=clf.predict(X_test)"
      ],
      "metadata": {
        "id": "wAXvH27Z8jXX"
      },
      "execution_count": null,
      "outputs": []
    },
    {
      "cell_type": "code",
      "source": [
        "X_data=np.array(df.iloc[::,1:6])\n",
        "#print(X_data)\n",
        "Class_data = np.array(df.iloc[::,6])\n",
        "#print(Class_data)"
      ],
      "metadata": {
        "id": "pAAuf6vACoRE"
      },
      "execution_count": null,
      "outputs": []
    },
    {
      "cell_type": "code",
      "source": [
        "df.iloc[::,6]"
      ],
      "metadata": {
        "colab": {
          "base_uri": "https://localhost:8080/"
        },
        "id": "FChcXi3aH_HB",
        "outputId": "d1bde010-8bbf-4307-943a-5900a099e9ac"
      },
      "execution_count": null,
      "outputs": [
        {
          "output_type": "execute_result",
          "data": {
            "text/plain": [
              "0      1\n",
              "1      1\n",
              "2      1\n",
              "3      1\n",
              "4      1\n",
              "      ..\n",
              "282    3\n",
              "283    3\n",
              "284    3\n",
              "285    3\n",
              "286    3\n",
              "Name: class, Length: 287, dtype: int64"
            ]
          },
          "metadata": {},
          "execution_count": 92
        }
      ]
    },
    {
      "cell_type": "code",
      "source": [
        "X_data.shape\n",
        "Class_data[0]"
      ],
      "metadata": {
        "colab": {
          "base_uri": "https://localhost:8080/"
        },
        "id": "jaLnAAajJoBL",
        "outputId": "c3a91674-adf9-4a8e-b01d-115ef7f26d3f"
      },
      "execution_count": null,
      "outputs": [
        {
          "output_type": "execute_result",
          "data": {
            "text/plain": [
              "1"
            ]
          },
          "metadata": {},
          "execution_count": 94
        }
      ]
    },
    {
      "cell_type": "code",
      "source": [
        "#Import scikit-learn metrics module for accuracy calculation\n",
        "from sklearn import metrics\n",
        "# Model Accuracy, how often is the classifier correct?\n",
        "print(\"Accuracy:\",metrics.accuracy_score(y_test, y_pred))"
      ],
      "metadata": {
        "colab": {
          "base_uri": "https://localhost:8080/"
        },
        "id": "bNf47Dek9vh7",
        "outputId": "67667feb-bc9d-448b-a232-f7bb450a94d2"
      },
      "execution_count": null,
      "outputs": [
        {
          "output_type": "stream",
          "name": "stdout",
          "text": [
            "Accuracy: 0.8850574712643678\n"
          ]
        }
      ]
    },
    {
      "cell_type": "code",
      "source": [
        "#GridSearchCV\n",
        "clf=RandomForestClassifier()\n",
        "parameters= {'n_estimators':list(range(40,80,5)),'max_features':list(range(2,5,1))}\n",
        "grid_rf = GridSearchCV(clf,param_grid=parameters,cv=5)\n",
        "grid_rf.fit(X_data, Class_data)\n",
        "\n",
        "grid_rf.cv_results_\n"
      ],
      "metadata": {
        "colab": {
          "base_uri": "https://localhost:8080/"
        },
        "id": "a1m247Md_dHP",
        "outputId": "d20ea1be-8404-4ec7-e1d9-15f83b46e522"
      },
      "execution_count": null,
      "outputs": [
        {
          "output_type": "execute_result",
          "data": {
            "text/plain": [
              "{'mean_fit_time': array([0.13770542, 0.06351686, 0.06989827, 0.07552471, 0.08046584,\n",
              "        0.08711886, 0.0913991 , 0.1024426 , 0.05393333, 0.06493063,\n",
              "        0.06824732, 0.07630386, 0.08500671, 0.0876955 , 0.10078402,\n",
              "        0.107862  , 0.05997615, 0.06290441, 0.07105818, 0.08070116,\n",
              "        0.08442087, 0.09677854, 0.09944286, 0.10771441]),\n",
              " 'std_fit_time': array([0.02612942, 0.00638916, 0.0039728 , 0.00362821, 0.00257235,\n",
              "        0.00441804, 0.00228029, 0.00705576, 0.00044708, 0.00248779,\n",
              "        0.00094263, 0.0026239 , 0.00486495, 0.00078199, 0.0038208 ,\n",
              "        0.00988547, 0.00375706, 0.00082239, 0.00085017, 0.0034371 ,\n",
              "        0.00083691, 0.00364314, 0.00401364, 0.00398439]),\n",
              " 'mean_score_time': array([0.00933771, 0.00504932, 0.00621562, 0.00578208, 0.00572   ,\n",
              "        0.00625458, 0.00667958, 0.00794711, 0.00404568, 0.00481791,\n",
              "        0.00490737, 0.00548158, 0.00568061, 0.00676894, 0.00782537,\n",
              "        0.0071157 , 0.00406623, 0.00445619, 0.00483127, 0.00568376,\n",
              "        0.00568943, 0.00616736, 0.00653601, 0.00763903]),\n",
              " 'std_score_time': array([3.23239078e-03, 9.97343036e-04, 2.04472442e-03, 5.96752443e-04,\n",
              "        6.11476681e-05, 1.22659591e-04, 1.65099686e-04, 1.80088028e-03,\n",
              "        3.58356370e-05, 5.82812730e-04, 6.34714859e-05, 3.93988721e-04,\n",
              "        3.29436851e-05, 7.21782360e-04, 1.67062417e-03, 3.96965562e-04,\n",
              "        3.63170274e-05, 1.96567985e-05, 2.34152779e-05, 7.69427852e-04,\n",
              "        5.73592490e-05, 6.48604412e-05, 5.22620922e-05, 1.49839759e-03]),\n",
              " 'param_max_features': masked_array(data=[2, 2, 2, 2, 2, 2, 2, 2, 3, 3, 3, 3, 3, 3, 3, 3, 4, 4,\n",
              "                    4, 4, 4, 4, 4, 4],\n",
              "              mask=[False, False, False, False, False, False, False, False,\n",
              "                    False, False, False, False, False, False, False, False,\n",
              "                    False, False, False, False, False, False, False, False],\n",
              "        fill_value='?',\n",
              "             dtype=object),\n",
              " 'param_n_estimators': masked_array(data=[40, 45, 50, 55, 60, 65, 70, 75, 40, 45, 50, 55, 60, 65,\n",
              "                    70, 75, 40, 45, 50, 55, 60, 65, 70, 75],\n",
              "              mask=[False, False, False, False, False, False, False, False,\n",
              "                    False, False, False, False, False, False, False, False,\n",
              "                    False, False, False, False, False, False, False, False],\n",
              "        fill_value='?',\n",
              "             dtype=object),\n",
              " 'params': [{'max_features': 2, 'n_estimators': 40},\n",
              "  {'max_features': 2, 'n_estimators': 45},\n",
              "  {'max_features': 2, 'n_estimators': 50},\n",
              "  {'max_features': 2, 'n_estimators': 55},\n",
              "  {'max_features': 2, 'n_estimators': 60},\n",
              "  {'max_features': 2, 'n_estimators': 65},\n",
              "  {'max_features': 2, 'n_estimators': 70},\n",
              "  {'max_features': 2, 'n_estimators': 75},\n",
              "  {'max_features': 3, 'n_estimators': 40},\n",
              "  {'max_features': 3, 'n_estimators': 45},\n",
              "  {'max_features': 3, 'n_estimators': 50},\n",
              "  {'max_features': 3, 'n_estimators': 55},\n",
              "  {'max_features': 3, 'n_estimators': 60},\n",
              "  {'max_features': 3, 'n_estimators': 65},\n",
              "  {'max_features': 3, 'n_estimators': 70},\n",
              "  {'max_features': 3, 'n_estimators': 75},\n",
              "  {'max_features': 4, 'n_estimators': 40},\n",
              "  {'max_features': 4, 'n_estimators': 45},\n",
              "  {'max_features': 4, 'n_estimators': 50},\n",
              "  {'max_features': 4, 'n_estimators': 55},\n",
              "  {'max_features': 4, 'n_estimators': 60},\n",
              "  {'max_features': 4, 'n_estimators': 65},\n",
              "  {'max_features': 4, 'n_estimators': 70},\n",
              "  {'max_features': 4, 'n_estimators': 75}],\n",
              " 'split0_test_score': array([0.79310345, 0.79310345, 0.79310345, 0.79310345, 0.79310345,\n",
              "        0.79310345, 0.81034483, 0.75862069, 0.72413793, 0.75862069,\n",
              "        0.74137931, 0.79310345, 0.75862069, 0.79310345, 0.77586207,\n",
              "        0.74137931, 0.72413793, 0.74137931, 0.72413793, 0.77586207,\n",
              "        0.74137931, 0.74137931, 0.77586207, 0.72413793]),\n",
              " 'split1_test_score': array([0.70689655, 0.68965517, 0.68965517, 0.74137931, 0.74137931,\n",
              "        0.74137931, 0.75862069, 0.72413793, 0.72413793, 0.75862069,\n",
              "        0.74137931, 0.68965517, 0.75862069, 0.79310345, 0.77586207,\n",
              "        0.77586207, 0.72413793, 0.74137931, 0.75862069, 0.74137931,\n",
              "        0.72413793, 0.72413793, 0.74137931, 0.74137931]),\n",
              " 'split2_test_score': array([0.84210526, 0.85964912, 0.84210526, 0.84210526, 0.84210526,\n",
              "        0.84210526, 0.8245614 , 0.84210526, 0.84210526, 0.84210526,\n",
              "        0.84210526, 0.84210526, 0.84210526, 0.84210526, 0.84210526,\n",
              "        0.84210526, 0.84210526, 0.84210526, 0.84210526, 0.84210526,\n",
              "        0.84210526, 0.84210526, 0.84210526, 0.84210526]),\n",
              " 'split3_test_score': array([0.94736842, 0.94736842, 0.94736842, 0.94736842, 0.94736842,\n",
              "        0.94736842, 0.94736842, 0.94736842, 0.94736842, 0.94736842,\n",
              "        0.94736842, 0.94736842, 0.94736842, 0.94736842, 0.94736842,\n",
              "        0.94736842, 0.94736842, 0.94736842, 0.94736842, 0.94736842,\n",
              "        0.94736842, 0.94736842, 0.94736842, 0.94736842]),\n",
              " 'split4_test_score': array([0.92982456, 0.94736842, 0.94736842, 0.94736842, 0.94736842,\n",
              "        0.94736842, 0.92982456, 0.92982456, 0.94736842, 0.94736842,\n",
              "        0.94736842, 0.94736842, 0.94736842, 0.92982456, 0.94736842,\n",
              "        0.94736842, 0.92982456, 0.92982456, 0.92982456, 0.94736842,\n",
              "        0.92982456, 0.92982456, 0.94736842, 0.94736842]),\n",
              " 'mean_test_score': array([0.84385965, 0.84742892, 0.84392015, 0.85426497, 0.85426497,\n",
              "        0.85426497, 0.85414398, 0.84041137, 0.83702359, 0.8508167 ,\n",
              "        0.84392015, 0.84392015, 0.8508167 , 0.86110103, 0.85771325,\n",
              "        0.8508167 , 0.83351482, 0.84041137, 0.84041137, 0.8508167 ,\n",
              "        0.8369631 , 0.8369631 , 0.8508167 , 0.84047187]),\n",
              " 'std_test_score': array([0.08881688, 0.0979479 , 0.09776135, 0.08242362, 0.08242362,\n",
              "        0.08242362, 0.07257622, 0.08904676, 0.09986404, 0.08452286,\n",
              "        0.0921256 , 0.09776135, 0.08452286, 0.06598965, 0.07709597,\n",
              "        0.08522335, 0.09616508, 0.08837658, 0.08904676, 0.08522335,\n",
              "        0.09241732, 0.09241732, 0.08522335, 0.09613463]),\n",
              " 'rank_test_score': array([16, 12, 13,  3,  3,  3,  6, 18, 21,  7, 13, 13,  7,  1,  2,  7, 24,\n",
              "        18, 18,  7, 22, 22,  7, 17], dtype=int32)}"
            ]
          },
          "metadata": {},
          "execution_count": 99
        }
      ]
    },
    {
      "cell_type": "code",
      "source": [
        "grid_rf.best_params_"
      ],
      "metadata": {
        "colab": {
          "base_uri": "https://localhost:8080/"
        },
        "id": "UPljOByfKtY0",
        "outputId": "739f1689-7f0f-4cdd-956b-3c506e1eedd5"
      },
      "execution_count": null,
      "outputs": [
        {
          "output_type": "execute_result",
          "data": {
            "text/plain": [
              "{'max_features': 3, 'n_estimators': 65}"
            ]
          },
          "metadata": {},
          "execution_count": 101
        }
      ]
    },
    {
      "cell_type": "code",
      "source": [
        "grid_rf.best_score_"
      ],
      "metadata": {
        "colab": {
          "base_uri": "https://localhost:8080/"
        },
        "id": "BhFYZYBZKxEY",
        "outputId": "83f316d3-1d5e-4296-ac69-455e2375d7fa"
      },
      "execution_count": null,
      "outputs": [
        {
          "output_type": "execute_result",
          "data": {
            "text/plain": [
              "0.8611010284331518"
            ]
          },
          "metadata": {},
          "execution_count": 102
        }
      ]
    },
    {
      "cell_type": "code",
      "source": [],
      "metadata": {
        "id": "TLrHfmhuLGKN"
      },
      "execution_count": null,
      "outputs": []
    }
  ]
}